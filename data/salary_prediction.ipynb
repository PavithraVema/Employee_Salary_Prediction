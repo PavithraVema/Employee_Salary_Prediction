{
 "cells": [
  {
   "cell_type": "code",
   "execution_count": 17,
   "id": "54162f71",
   "metadata": {},
   "outputs": [],
   "source": [
    "import pandas as pd\n",
    "import os\n"
   ]
  },
  {
   "cell_type": "code",
   "execution_count": 18,
   "id": "9433202c",
   "metadata": {},
   "outputs": [
    {
     "name": "stdout",
     "output_type": "stream",
     "text": [
      "📄 Current data loaded.\n"
     ]
    }
   ],
   "source": [
    "data_path = \"../data/employeedata.csv\"\n",
    "\n",
    "if os.path.exists(data_path):\n",
    "    df = pd.read_csv(data_path)\n",
    "    print(\"📄 Current data loaded.\")\n",
    "else:\n",
    "    print(\"⚠️ Data file not found.\")\n"
   ]
  },
  {
   "cell_type": "code",
   "execution_count": 19,
   "id": "116b18e8",
   "metadata": {},
   "outputs": [
    {
     "name": "stdout",
     "output_type": "stream",
     "text": [
      "Index(['experience', 'education', 'role', 'location', 'age', 'salary'], dtype='object')\n"
     ]
    }
   ],
   "source": [
    "print(df.columns)"
   ]
  },
  {
   "cell_type": "code",
   "execution_count": 20,
   "id": "e176208f",
   "metadata": {},
   "outputs": [
    {
     "data": {
      "text/html": [
       "<div>\n",
       "<style scoped>\n",
       "    .dataframe tbody tr th:only-of-type {\n",
       "        vertical-align: middle;\n",
       "    }\n",
       "\n",
       "    .dataframe tbody tr th {\n",
       "        vertical-align: top;\n",
       "    }\n",
       "\n",
       "    .dataframe thead th {\n",
       "        text-align: right;\n",
       "    }\n",
       "</style>\n",
       "<table border=\"1\" class=\"dataframe\">\n",
       "  <thead>\n",
       "    <tr style=\"text-align: right;\">\n",
       "      <th></th>\n",
       "      <th>experience</th>\n",
       "      <th>education</th>\n",
       "      <th>role</th>\n",
       "      <th>location</th>\n",
       "      <th>age</th>\n",
       "      <th>salary</th>\n",
       "    </tr>\n",
       "  </thead>\n",
       "  <tbody>\n",
       "    <tr>\n",
       "      <th>0</th>\n",
       "      <td>4</td>\n",
       "      <td>master</td>\n",
       "      <td>data scientist</td>\n",
       "      <td>tier-1</td>\n",
       "      <td>29</td>\n",
       "      <td>78000</td>\n",
       "    </tr>\n",
       "  </tbody>\n",
       "</table>\n",
       "</div>"
      ],
      "text/plain": [
       "   experience education            role location  age  salary\n",
       "0           4    master  data scientist   tier-1   29   78000"
      ]
     },
     "execution_count": 20,
     "metadata": {},
     "output_type": "execute_result"
    }
   ],
   "source": [
    "# 🔁 Change these values to add more entries\n",
    "new_employee = {\n",
    "    \"experience\": 4,\n",
    "    \"education\": \"master\",\n",
    "    \"role\": \"data scientist\",\n",
    "    \"location\": \"tier-1\",\n",
    "    \"age\": 29,\n",
    "    \"salary\": 78000\n",
    "}\n",
    "\n",
    "# Convert to DataFrame\n",
    "new_df = pd.DataFrame([new_employee])\n",
    "new_df\n"
   ]
  },
  {
   "cell_type": "code",
   "execution_count": 21,
   "id": "dfa308e1",
   "metadata": {},
   "outputs": [
    {
     "data": {
      "text/html": [
       "<div>\n",
       "<style scoped>\n",
       "    .dataframe tbody tr th:only-of-type {\n",
       "        vertical-align: middle;\n",
       "    }\n",
       "\n",
       "    .dataframe tbody tr th {\n",
       "        vertical-align: top;\n",
       "    }\n",
       "\n",
       "    .dataframe thead th {\n",
       "        text-align: right;\n",
       "    }\n",
       "</style>\n",
       "<table border=\"1\" class=\"dataframe\">\n",
       "  <thead>\n",
       "    <tr style=\"text-align: right;\">\n",
       "      <th></th>\n",
       "      <th>experience</th>\n",
       "      <th>education</th>\n",
       "      <th>role</th>\n",
       "      <th>location</th>\n",
       "      <th>age</th>\n",
       "      <th>salary</th>\n",
       "    </tr>\n",
       "  </thead>\n",
       "  <tbody>\n",
       "    <tr>\n",
       "      <th>5</th>\n",
       "      <td>6</td>\n",
       "      <td>phd</td>\n",
       "      <td>data scientist</td>\n",
       "      <td>tier-1</td>\n",
       "      <td>32</td>\n",
       "      <td>90000</td>\n",
       "    </tr>\n",
       "    <tr>\n",
       "      <th>6</th>\n",
       "      <td>3</td>\n",
       "      <td>bachelor</td>\n",
       "      <td>frontend developer</td>\n",
       "      <td>tier-2</td>\n",
       "      <td>27</td>\n",
       "      <td>45000</td>\n",
       "    </tr>\n",
       "    <tr>\n",
       "      <th>7</th>\n",
       "      <td>5</td>\n",
       "      <td>master</td>\n",
       "      <td>senior developer</td>\n",
       "      <td>tier-1</td>\n",
       "      <td>31</td>\n",
       "      <td>75000</td>\n",
       "    </tr>\n",
       "    <tr>\n",
       "      <th>8</th>\n",
       "      <td>7</td>\n",
       "      <td>phd</td>\n",
       "      <td>tech lead</td>\n",
       "      <td>tier-1</td>\n",
       "      <td>35</td>\n",
       "      <td>100000</td>\n",
       "    </tr>\n",
       "    <tr>\n",
       "      <th>9</th>\n",
       "      <td>4</td>\n",
       "      <td>master</td>\n",
       "      <td>data scientist</td>\n",
       "      <td>tier-1</td>\n",
       "      <td>29</td>\n",
       "      <td>78000</td>\n",
       "    </tr>\n",
       "  </tbody>\n",
       "</table>\n",
       "</div>"
      ],
      "text/plain": [
       "   experience education                role location  age  salary\n",
       "5           6       phd      data scientist   tier-1   32   90000\n",
       "6           3  bachelor  frontend developer   tier-2   27   45000\n",
       "7           5    master    senior developer   tier-1   31   75000\n",
       "8           7       phd           tech lead   tier-1   35  100000\n",
       "9           4    master      data scientist   tier-1   29   78000"
      ]
     },
     "execution_count": 21,
     "metadata": {},
     "output_type": "execute_result"
    }
   ],
   "source": [
    "df_updated = pd.concat([df, new_df], ignore_index=True)\n",
    "df_updated.tail()\n"
   ]
  },
  {
   "cell_type": "code",
   "execution_count": null,
   "id": "aceaa534",
   "metadata": {},
   "outputs": [],
   "source": []
  },
  {
   "cell_type": "code",
   "execution_count": 22,
   "id": "dd147567",
   "metadata": {},
   "outputs": [
    {
     "name": "stdout",
     "output_type": "stream",
     "text": [
      "✅ New data added to employeedata.csv\n"
     ]
    }
   ],
   "source": [
    "df_updated.to_csv(data_path, index=False)\n",
    "print(\"✅ New data added to employeedata.csv\")\n"
   ]
  },
  {
   "cell_type": "code",
   "execution_count": 23,
   "id": "3fb64601",
   "metadata": {},
   "outputs": [],
   "source": [
    "new_employees = [\n",
    "    {\"experience\": 2, \"education\": \"bachelor\", \"role\": \"frontend developer\", \"location\": \"tier-2\", \"age\": 24, \"salary\": 40000},\n",
    "    {\"experience\": 6, \"education\": \"phd\", \"role\": \"tech lead\", \"location\": \"tier-1\", \"age\": 36, \"salary\": 105000}\n",
    "]\n",
    "\n",
    "new_df = pd.DataFrame(new_employees)\n"
   ]
  }
 ],
 "metadata": {
  "kernelspec": {
   "display_name": "Python 3",
   "language": "python",
   "name": "python3"
  },
  "language_info": {
   "codemirror_mode": {
    "name": "ipython",
    "version": 3
   },
   "file_extension": ".py",
   "mimetype": "text/x-python",
   "name": "python",
   "nbconvert_exporter": "python",
   "pygments_lexer": "ipython3",
   "version": "3.13.3"
  }
 },
 "nbformat": 4,
 "nbformat_minor": 5
}
